{
 "cells": [
  {
   "cell_type": "code",
   "execution_count": 9,
   "metadata": {
    "collapsed": true
   },
   "outputs": [],
   "source": [
    "from MinimalConstructionsCore import *"
   ]
  },
  {
   "cell_type": "code",
   "execution_count": 10,
   "outputs": [],
   "source": [
    "maximum_depth = 3"
   ],
   "metadata": {
    "collapsed": false,
    "pycharm": {
     "name": "#%%\n"
    }
   }
  },
  {
   "cell_type": "code",
   "execution_count": 11,
   "outputs": [
    {
     "name": "stdout",
     "output_type": "stream",
     "text": [
      "\u001B[32mMinimal Construction of Points at Sat, 29 May 2021 23:00:11 +0000\n",
      "\tDiscovered 14 constructed points\u001B[0m\n",
      "\u001B[32mMinimal Construction Length for each point:\n",
      "\t\u001B[32m 2 Point d: (2, 0)\n",
      "\t\u001B[32m 2 Point e: (0, 0)\n",
      "\t\u001B[32m 2 Point e: (1/2, (-1/2)*sqrt(3))\n",
      "\t\u001B[32m 2 Point f: (1/2, (1/2)*sqrt(3))\n",
      "\t\u001B[32m 2 Point d: (1, 0)\n",
      "\t\u001B[32m 2 Point e: (-1, 0)\n",
      "\t\u001B[32m 3 Point e: (4, 0)\n",
      "\t\u001B[32m 3 Point f: (-2, 0)\n",
      "\t\u001B[32m 3 Point g: (3/2, (-1/2)*sqrt(3))\n",
      "\t\u001B[32m 3 Point h: (3/2, (1/2)*sqrt(3))\n",
      "\t\u001B[32m 3 Point h: (3, 0)\n",
      "\t\u001B[32m 3 Point f: (-1/2, (1/2)*sqrt(3))\n",
      "\t\u001B[32m 3 Point h: (-1/2, (-1/2)*sqrt(3))\n",
      "\t\u001B[32m 3 Point f: (-3, 0)\n",
      "\u001B[33mNumber of Unique Constructions of each given length\n",
      "\tSteps: 0 Num Unique Constructions:  1\n",
      "\tSteps: 1 Num Unique Constructions:  3\n",
      "\tSteps: 2 Num Unique Constructions:  3\n",
      "\tSteps: 3 Num Unique Constructions:  16\n",
      "\tSteps: 4 Num Unique Constructions:  205\n",
      "\u001B[34mTotal Unique Constructions\n",
      "\tGenerated 228 different constructions\n",
      "\u001B[0m\n"
     ]
    }
   ],
   "source": [
    "run_bfs_in_series(construction_job_queue, generated_constructions, point_minimal_construction_length, maximum_depth)"
   ],
   "metadata": {
    "collapsed": false,
    "pycharm": {
     "name": "#%%\n"
    }
   }
  },
  {
   "cell_type": "code",
   "execution_count": 12,
   "outputs": [
    {
     "name": "stdout",
     "output_type": "stream",
     "text": [
      "671 µs ± 13.2 µs per loop (mean ± std. dev. of 7 runs, 10000 loops each)\n",
      "667 µs ± 9.72 µs per loop (mean ± std. dev. of 7 runs, 1000 loops each)\n"
     ]
    }
   ],
   "source": [
    "%%timeit -n 1000\n",
    "run_bfs_in_series(construction_job_queue, generated_constructions, point_minimal_construction_length, maximum_depth, verbose=False)\n"
   ],
   "metadata": {
    "collapsed": false,
    "pycharm": {
     "name": "#%%\n"
    }
   }
  },
  {
   "cell_type": "code",
   "execution_count": 12,
   "outputs": [],
   "source": [],
   "metadata": {
    "collapsed": false,
    "pycharm": {
     "name": "#%%\n"
    }
   }
  }
 ],
 "metadata": {
  "kernelspec": {
   "display_name": "Python 3",
   "language": "python",
   "name": "python3"
  },
  "language_info": {
   "codemirror_mode": {
    "name": "ipython",
    "version": 2
   },
   "file_extension": ".py",
   "mimetype": "text/x-python",
   "name": "python",
   "nbconvert_exporter": "python",
   "pygments_lexer": "ipython2",
   "version": "2.7.6"
  }
 },
 "nbformat": 4,
 "nbformat_minor": 0
}