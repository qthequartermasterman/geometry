{
 "cells": [
  {
   "cell_type": "code",
   "execution_count": 1,
   "metadata": {
    "collapsed": true
   },
   "outputs": [],
   "source": [
    "from MinimalConstructionsCore import *"
   ]
  },
  {
   "cell_type": "code",
   "execution_count": 2,
   "outputs": [
    {
     "name": "stdout",
     "output_type": "stream",
     "text": [
      "\u001B[32mMinimal Construction of Points at Sat, 29 May 2021 23:27:47 +0000\n",
      "\tDiscovered 0 constructed points\u001B[0m\n",
      "\u001B[32mMinimal Construction Length for each point:\n",
      "\t\u001B[32m 2 Point d: (2, 0)\n",
      "\t\u001B[32m 2 Point e: (0, 0)\n",
      "\t\u001B[32m 2 Point e: (1/2, (-1/2)*sqrt(3))\n",
      "\t\u001B[32m 2 Point f: (1/2, (1/2)*sqrt(3))\n",
      "\t\u001B[32m 2 Point d: (1, 0)\n",
      "\t\u001B[32m 2 Point e: (-1, 0)\n",
      "\t\u001B[32m 3 Point e: (4, 0)\n",
      "\t\u001B[32m 3 Point f: (-2, 0)\n",
      "\t\u001B[32m 3 Point g: (3/2, (-1/2)*sqrt(3))\n",
      "\t\u001B[32m 3 Point h: (3/2, (1/2)*sqrt(3))\n",
      "\t\u001B[32m 3 Point h: (3, 0)\n",
      "\t\u001B[32m 3 Point f: (-1/2, (1/2)*sqrt(3))\n",
      "\t\u001B[32m 3 Point h: (-1/2, (-1/2)*sqrt(3))\n",
      "\t\u001B[32m 3 Point f: (-3, 0)\n",
      "\u001B[33mNumber of Unique Constructions of each given length\n",
      "\tSteps: 0 Num Unique Constructions:  1\n",
      "\tSteps: 1 Num Unique Constructions:  3\n",
      "\tSteps: 2 Num Unique Constructions:  3\n",
      "\tSteps: 3 Num Unique Constructions:  16\n",
      "\tSteps: 4 Num Unique Constructions:  205\n",
      "\u001B[34mTotal Unique Constructions\n",
      "\tGenerated 228 different constructions\n",
      "\u001B[0m\n"
     ]
    }
   ],
   "source": [
    "find_all_constructions_of_length(max_depth=3)"
   ],
   "metadata": {
    "collapsed": false,
    "pycharm": {
     "name": "#%%\n"
    }
   }
  },
  {
   "cell_type": "code",
   "execution_count": 3,
   "outputs": [
    {
     "name": "stdout",
     "output_type": "stream",
     "text": [
      "855 ms ± 49.3 ms per loop (mean ± std. dev. of 7 runs, 1 loop each)\n"
     ]
    }
   ],
   "source": [
    "%%timeit\n",
    "find_all_constructions_of_length(max_depth=3, verbose=False)\n"
   ],
   "metadata": {
    "collapsed": false,
    "pycharm": {
     "name": "#%%\n"
    }
   }
  },
  {
   "cell_type": "code",
   "execution_count": null,
   "outputs": [],
   "source": [
    "find_all_constructions_of_length(max_depth=4)"
   ],
   "metadata": {
    "collapsed": false,
    "pycharm": {
     "name": "#%%\n",
     "is_executing": true
    }
   }
  },
  {
   "cell_type": "code",
   "execution_count": null,
   "outputs": [],
   "source": [
    "%%timeit\n",
    "find_all_constructions_of_length(max_depth=4, verbose=False)\n"
   ],
   "metadata": {
    "collapsed": false,
    "pycharm": {
     "name": "#%%\n",
     "is_executing": true
    }
   }
  },
  {
   "cell_type": "code",
   "execution_count": null,
   "outputs": [],
   "source": [],
   "metadata": {
    "collapsed": false,
    "pycharm": {
     "name": "#%%\n"
    }
   }
  }
 ],
 "metadata": {
  "kernelspec": {
   "display_name": "Python 3",
   "language": "python",
   "name": "python3"
  },
  "language_info": {
   "codemirror_mode": {
    "name": "ipython",
    "version": 2
   },
   "file_extension": ".py",
   "mimetype": "text/x-python",
   "name": "python",
   "nbconvert_exporter": "python",
   "pygments_lexer": "ipython2",
   "version": "2.7.6"
  }
 },
 "nbformat": 4,
 "nbformat_minor": 0
}