{
 "cells": [
  {
   "cell_type": "code",
   "execution_count": 1,
   "metadata": {
    "collapsed": true
   },
   "outputs": [],
   "source": [
    "from MinimalConstructionsCore import *"
   ]
  },
  {
   "cell_type": "code",
   "execution_count": 2,
   "outputs": [
    {
     "name": "stdout",
     "output_type": "stream",
     "text": [
      "\u001B[32mMinimal Construction of Points at Thu, 03 Jun 2021 19:26:03 +0000\n",
      "\tDiscovered 0 constructed points\u001B[0m\n",
      "\u001B[32mMinimal Construction Length for each point:\n",
      "\t\u001B[32m 2 Point d: (2, 0)\n",
      "\t\u001B[32m 2 Point e: (0, 0)\n",
      "\t\u001B[32m 2 Point e: (1/2, (-1/2)*sqrt(3))\n",
      "\t\u001B[32m 2 Point f: (1/2, (1/2)*sqrt(3))\n",
      "\t\u001B[32m 2 Point d: (1, 0)\n",
      "\t\u001B[32m 2 Point e: (-1, 0)\n",
      "\t\u001B[32m 3 Point e: (4, 0)\n",
      "\t\u001B[32m 3 Point f: (-2, 0)\n",
      "\t\u001B[32m 3 Point g: (3/2, (-1/2)*sqrt(3))\n",
      "\t\u001B[32m 3 Point h: (3/2, (1/2)*sqrt(3))\n",
      "\t\u001B[32m 3 Point h: (3, 0)\n",
      "\t\u001B[32m 3 Point f: (-1/2, (1/2)*sqrt(3))\n",
      "\t\u001B[32m 3 Point h: (-1/2, (-1/2)*sqrt(3))\n",
      "\t\u001B[32m 3 Point f: (-3, 0)\n",
      "\u001B[33mNumber of Unique Constructions of each given length\n",
      "\tSteps: 0 Num Unique Constructions:  1\n",
      "\tSteps: 1 Num Unique Constructions:  3\n",
      "\tSteps: 2 Num Unique Constructions:  3\n",
      "\tSteps: 3 Num Unique Constructions:  16\n",
      "\tSteps: 4 Num Unique Constructions:  205\n",
      "\u001B[34mTotal Unique Constructions\n",
      "\tGenerated 228 different constructions\n",
      "\u001B[0m\n"
     ]
    }
   ],
   "source": [
    "find_all_constructions_of_length(max_depth=3)"
   ],
   "metadata": {
    "collapsed": false,
    "pycharm": {
     "name": "#%%\n"
    }
   }
  },
  {
   "cell_type": "code",
   "execution_count": 2,
   "outputs": [
    {
     "name": "stdout",
     "output_type": "stream",
     "text": [
      "6.42 s ± 84.7 ms per loop (mean ± std. dev. of 7 runs, 1 loop each)\n"
     ]
    }
   ],
   "source": [
    "%%timeit\n",
    "find_all_constructions_of_length(max_depth=3, report=False)\n"
   ],
   "metadata": {
    "collapsed": false,
    "pycharm": {
     "name": "#%%\n"
    }
   }
  },
  {
   "cell_type": "code",
   "execution_count": null,
   "outputs": [
    {
     "ename": "InconsistentAssumptions",
     "evalue": "{\n\talgebraic: True,\n\tcommutative: True,\n\tcomplex: True,\n\tcomposite: False,\n\teven: True,\n\textended_negative: False,\n\textended_nonnegative: True,\n\textended_nonpositive: True,\n\textended_nonzero: False,\n\textended_positive: False,\n\textended_real: True,\n\tfinite: True,\n\thermitian: True,\n\timaginary: False,\n\tinfinite: False,\n\tinteger: True,\n\tirrational: False,\n\tnegative: False,\n\tnoninteger: False,\n\tnonnegative: True,\n\tnonpositive: True,\n\tnonzero: False,\n\todd: False,\n\tpositive: False,\n\tprime: False,\n\trational: True,\n\treal: True,\n\ttranscendental: False,\n\tzero: True}, extended_positive=True",
     "output_type": "error",
     "traceback": [
      "\u001B[0;31m---------------------------------------------------------------------------\u001B[0m",
      "\u001B[0;31mKeyError\u001B[0m                                  Traceback (most recent call last)",
      "\u001B[0;32m~/PycharmProjects/sympy/sympy/core/assumptions.py\u001B[0m in \u001B[0;36mgetit\u001B[0;34m(self)\u001B[0m\n\u001B[1;32m    453\u001B[0m         \u001B[0;32mtry\u001B[0m\u001B[0;34m:\u001B[0m\u001B[0;34m\u001B[0m\u001B[0;34m\u001B[0m\u001B[0m\n\u001B[0;32m--> 454\u001B[0;31m             \u001B[0;32mreturn\u001B[0m \u001B[0mself\u001B[0m\u001B[0;34m.\u001B[0m\u001B[0m_assumptions\u001B[0m\u001B[0;34m[\u001B[0m\u001B[0mfact\u001B[0m\u001B[0;34m]\u001B[0m\u001B[0;34m\u001B[0m\u001B[0;34m\u001B[0m\u001B[0m\n\u001B[0m\u001B[1;32m    455\u001B[0m         \u001B[0;32mexcept\u001B[0m \u001B[0mKeyError\u001B[0m\u001B[0;34m:\u001B[0m\u001B[0;34m\u001B[0m\u001B[0;34m\u001B[0m\u001B[0m\n",
      "\u001B[0;31mKeyError\u001B[0m: 'zero'",
      "\nDuring handling of the above exception, another exception occurred:\n",
      "\u001B[0;31mKeyError\u001B[0m                                  Traceback (most recent call last)",
      "\u001B[0;32m~/PycharmProjects/sympy/sympy/core/assumptions.py\u001B[0m in \u001B[0;36mgetit\u001B[0;34m(self)\u001B[0m\n\u001B[1;32m    453\u001B[0m         \u001B[0;32mtry\u001B[0m\u001B[0;34m:\u001B[0m\u001B[0;34m\u001B[0m\u001B[0;34m\u001B[0m\u001B[0m\n\u001B[0;32m--> 454\u001B[0;31m             \u001B[0;32mreturn\u001B[0m \u001B[0mself\u001B[0m\u001B[0;34m.\u001B[0m\u001B[0m_assumptions\u001B[0m\u001B[0;34m[\u001B[0m\u001B[0mfact\u001B[0m\u001B[0;34m]\u001B[0m\u001B[0;34m\u001B[0m\u001B[0;34m\u001B[0m\u001B[0m\n\u001B[0m\u001B[1;32m    455\u001B[0m         \u001B[0;32mexcept\u001B[0m \u001B[0mKeyError\u001B[0m\u001B[0;34m:\u001B[0m\u001B[0;34m\u001B[0m\u001B[0;34m\u001B[0m\u001B[0m\n",
      "\u001B[0;31mKeyError\u001B[0m: 'zero'",
      "\nDuring handling of the above exception, another exception occurred:\n",
      "\u001B[0;31mKeyError\u001B[0m                                  Traceback (most recent call last)",
      "\u001B[0;32m~/PycharmProjects/sympy/sympy/core/assumptions.py\u001B[0m in \u001B[0;36mgetit\u001B[0;34m(self)\u001B[0m\n\u001B[1;32m    453\u001B[0m         \u001B[0;32mtry\u001B[0m\u001B[0;34m:\u001B[0m\u001B[0;34m\u001B[0m\u001B[0;34m\u001B[0m\u001B[0m\n\u001B[0;32m--> 454\u001B[0;31m             \u001B[0;32mreturn\u001B[0m \u001B[0mself\u001B[0m\u001B[0;34m.\u001B[0m\u001B[0m_assumptions\u001B[0m\u001B[0;34m[\u001B[0m\u001B[0mfact\u001B[0m\u001B[0;34m]\u001B[0m\u001B[0;34m\u001B[0m\u001B[0;34m\u001B[0m\u001B[0m\n\u001B[0m\u001B[1;32m    455\u001B[0m         \u001B[0;32mexcept\u001B[0m \u001B[0mKeyError\u001B[0m\u001B[0;34m:\u001B[0m\u001B[0;34m\u001B[0m\u001B[0;34m\u001B[0m\u001B[0m\n",
      "\u001B[0;31mKeyError\u001B[0m: 'extended_real'",
      "\nDuring handling of the above exception, another exception occurred:\n",
      "\u001B[0;31mKeyError\u001B[0m                                  Traceback (most recent call last)",
      "\u001B[0;32m~/PycharmProjects/sympy/sympy/core/assumptions.py\u001B[0m in \u001B[0;36mgetit\u001B[0;34m(self)\u001B[0m\n\u001B[1;32m    453\u001B[0m         \u001B[0;32mtry\u001B[0m\u001B[0;34m:\u001B[0m\u001B[0;34m\u001B[0m\u001B[0;34m\u001B[0m\u001B[0m\n\u001B[0;32m--> 454\u001B[0;31m             \u001B[0;32mreturn\u001B[0m \u001B[0mself\u001B[0m\u001B[0;34m.\u001B[0m\u001B[0m_assumptions\u001B[0m\u001B[0;34m[\u001B[0m\u001B[0mfact\u001B[0m\u001B[0;34m]\u001B[0m\u001B[0;34m\u001B[0m\u001B[0;34m\u001B[0m\u001B[0m\n\u001B[0m\u001B[1;32m    455\u001B[0m         \u001B[0;32mexcept\u001B[0m \u001B[0mKeyError\u001B[0m\u001B[0;34m:\u001B[0m\u001B[0;34m\u001B[0m\u001B[0;34m\u001B[0m\u001B[0m\n",
      "\u001B[0;31mKeyError\u001B[0m: 'extended_positive'",
      "\nDuring handling of the above exception, another exception occurred:\n",
      "\u001B[0;31mInconsistentAssumptions\u001B[0m                   Traceback (most recent call last)",
      "\u001B[0;32m<ipython-input-4-84fdc1391495>\u001B[0m in \u001B[0;36m<module>\u001B[0;34m\u001B[0m\n\u001B[0;32m----> 1\u001B[0;31m \u001B[0mfind_all_constructions_of_length\u001B[0m\u001B[0;34m(\u001B[0m\u001B[0mmax_depth\u001B[0m\u001B[0;34m=\u001B[0m\u001B[0;36m4\u001B[0m\u001B[0;34m)\u001B[0m\u001B[0;34m\u001B[0m\u001B[0;34m\u001B[0m\u001B[0m\n\u001B[0m\u001B[1;32m      2\u001B[0m \u001B[0;34m\u001B[0m\u001B[0m\n",
      "\u001B[0;32m~/PycharmProjects/geometry/geometry/experiments/MinimalConstructions/MinimalConstructionsCore.py\u001B[0m in \u001B[0;36mfind_all_constructions_of_length\u001B[0;34m(max_depth, verbose, report)\u001B[0m\n\u001B[1;32m    266\u001B[0m     \u001B[0;31m# values are dummy, since multiprocessing managers only work with dicts\u001B[0m\u001B[0;34m\u001B[0m\u001B[0;34m\u001B[0m\u001B[0;34m\u001B[0m\u001B[0m\n\u001B[1;32m    267\u001B[0m     \u001B[0mgenerated_constructions_dict\u001B[0m\u001B[0;34m:\u001B[0m \u001B[0;34m{\u001B[0m\u001B[0mConstruction\u001B[0m\u001B[0;34m:\u001B[0m \u001B[0mint\u001B[0m\u001B[0;34m}\u001B[0m \u001B[0;34m=\u001B[0m \u001B[0;34m{\u001B[0m\u001B[0;34m}\u001B[0m\u001B[0;34m\u001B[0m\u001B[0;34m\u001B[0m\u001B[0m\n\u001B[0;32m--> 268\u001B[0;31m     \u001B[0mrun_bfs_in_series\u001B[0m\u001B[0;34m(\u001B[0m\u001B[0mconstruction_queue\u001B[0m\u001B[0;34m,\u001B[0m \u001B[0mgenerated_constructions_dict\u001B[0m\u001B[0;34m,\u001B[0m \u001B[0mpoint_minimal_construction_length_dict\u001B[0m\u001B[0;34m,\u001B[0m \u001B[0mmax_depth\u001B[0m\u001B[0;34m,\u001B[0m \u001B[0mverbose\u001B[0m\u001B[0;34m,\u001B[0m \u001B[0mreport\u001B[0m\u001B[0;34m)\u001B[0m\u001B[0;34m\u001B[0m\u001B[0;34m\u001B[0m\u001B[0m\n\u001B[0m\u001B[1;32m    269\u001B[0m \u001B[0;34m\u001B[0m\u001B[0m\n\u001B[1;32m    270\u001B[0m \u001B[0;34m\u001B[0m\u001B[0m\n",
      "\u001B[0;32m~/PycharmProjects/geometry/geometry/experiments/MinimalConstructions/MinimalConstructionsCore.py\u001B[0m in \u001B[0;36mrun_bfs_in_series\u001B[0;34m(queue, previously_generated_constructions_dict, point_minimal_construction_dict, max_search_depth, verbose, report)\u001B[0m\n\u001B[1;32m    241\u001B[0m     \u001B[0mpreviously_generated_constructions_dict\u001B[0m\u001B[0;34m[\u001B[0m\u001B[0mbase_construction\u001B[0m\u001B[0;34m]\u001B[0m \u001B[0;34m=\u001B[0m \u001B[0;36m0\u001B[0m  \u001B[0;31m# Put the base construction in our visited_dict\u001B[0m\u001B[0;34m\u001B[0m\u001B[0;34m\u001B[0m\u001B[0m\n\u001B[1;32m    242\u001B[0m     \u001B[0mqueue\u001B[0m\u001B[0;34m.\u001B[0m\u001B[0mput\u001B[0m\u001B[0;34m(\u001B[0m\u001B[0;34m(\u001B[0m\u001B[0mbase_construction\u001B[0m\u001B[0;34m,\u001B[0m \u001B[0mtuple\u001B[0m\u001B[0;34m(\u001B[0m\u001B[0mbase_construction\u001B[0m\u001B[0;34m.\u001B[0m\u001B[0mpoints\u001B[0m\u001B[0;34m)\u001B[0m\u001B[0;34m[\u001B[0m\u001B[0;36m0\u001B[0m\u001B[0;34m]\u001B[0m\u001B[0;34m)\u001B[0m\u001B[0;34m)\u001B[0m\u001B[0;34m\u001B[0m\u001B[0;34m\u001B[0m\u001B[0m\n\u001B[0;32m--> 243\u001B[0;31m     generate_constructions_breadth_first_search(queue, previously_generated_constructions_dict,\n\u001B[0m\u001B[1;32m    244\u001B[0m                                                 \u001B[0mpoint_minimal_construction_dict\u001B[0m\u001B[0;34m,\u001B[0m\u001B[0;34m\u001B[0m\u001B[0;34m\u001B[0m\u001B[0m\n\u001B[1;32m    245\u001B[0m                                                 max_search_depth, verbose=verbose)\n",
      "\u001B[0;32m~/PycharmProjects/geometry/geometry/experiments/MinimalConstructions/MinimalConstructionsCore.py\u001B[0m in \u001B[0;36mgenerate_constructions_breadth_first_search\u001B[0;34m(queue, generated_constructions_dict, point_minimal_construction_length_dict, max_search_depth, interesting, verbose)\u001B[0m\n\u001B[1;32m    207\u001B[0m         \u001B[0;32mfor\u001B[0m \u001B[0maction\u001B[0m \u001B[0;32min\u001B[0m \u001B[0mqueue_construction\u001B[0m\u001B[0;34m.\u001B[0m\u001B[0mactions\u001B[0m\u001B[0;34m:\u001B[0m\u001B[0;34m\u001B[0m\u001B[0;34m\u001B[0m\u001B[0m\n\u001B[1;32m    208\u001B[0m             \u001B[0mnew_construction\u001B[0m \u001B[0;34m=\u001B[0m \u001B[0mcopy\u001B[0m\u001B[0;34m.\u001B[0m\u001B[0mdeepcopy\u001B[0m\u001B[0;34m(\u001B[0m\u001B[0mqueue_construction\u001B[0m\u001B[0;34m)\u001B[0m\u001B[0;34m\u001B[0m\u001B[0;34m\u001B[0m\u001B[0m\n\u001B[0;32m--> 209\u001B[0;31m             \u001B[0mnew_object\u001B[0m \u001B[0;34m=\u001B[0m \u001B[0mnew_construction\u001B[0m\u001B[0;34m.\u001B[0m\u001B[0madd_step_premade\u001B[0m\u001B[0;34m(\u001B[0m\u001B[0maction\u001B[0m\u001B[0;34m,\u001B[0m \u001B[0minteresting\u001B[0m\u001B[0;34m=\u001B[0m\u001B[0minteresting\u001B[0m\u001B[0;34m)\u001B[0m\u001B[0;34m\u001B[0m\u001B[0;34m\u001B[0m\u001B[0m\n\u001B[0m\u001B[1;32m    210\u001B[0m             \u001B[0;32mif\u001B[0m \u001B[0mverbose\u001B[0m\u001B[0;34m:\u001B[0m\u001B[0;34m\u001B[0m\u001B[0;34m\u001B[0m\u001B[0m\n\u001B[1;32m    211\u001B[0m                 print('\\033[36m', 'Generating new construction: '\n",
      "\u001B[0;32m~/PycharmProjects/geometry/geometry/core/Construction.py\u001B[0m in \u001B[0;36madd_step_premade\u001B[0;34m(self, step, counts_as_step, interesting)\u001B[0m\n\u001B[1;32m    454\u001B[0m         \u001B[0mnew_points\u001B[0m \u001B[0;34m=\u001B[0m \u001B[0mself\u001B[0m\u001B[0;34m.\u001B[0m\u001B[0mupdate_intersections_with_object\u001B[0m\u001B[0;34m(\u001B[0m\u001B[0mstep\u001B[0m\u001B[0;34m)\u001B[0m\u001B[0;34m\u001B[0m\u001B[0;34m\u001B[0m\u001B[0m\n\u001B[1;32m    455\u001B[0m         \u001B[0mself\u001B[0m\u001B[0;34m.\u001B[0m\u001B[0mactions\u001B[0m\u001B[0;34m.\u001B[0m\u001B[0mdiscard\u001B[0m\u001B[0;34m(\u001B[0m\u001B[0mstep\u001B[0m\u001B[0;34m)\u001B[0m\u001B[0;34m\u001B[0m\u001B[0;34m\u001B[0m\u001B[0m\n\u001B[0;32m--> 456\u001B[0;31m         \u001B[0mself\u001B[0m\u001B[0;34m.\u001B[0m\u001B[0mactions\u001B[0m \u001B[0;34m=\u001B[0m \u001B[0mself\u001B[0m\u001B[0;34m.\u001B[0m\u001B[0mget_valid_actions\u001B[0m\u001B[0;34m(\u001B[0m\u001B[0mnew_points\u001B[0m\u001B[0;34m)\u001B[0m\u001B[0;34m\u001B[0m\u001B[0;34m\u001B[0m\u001B[0m\n\u001B[0m\u001B[1;32m    457\u001B[0m         \u001B[0;32mreturn\u001B[0m \u001B[0mstep\u001B[0m\u001B[0;34m\u001B[0m\u001B[0;34m\u001B[0m\u001B[0m\n\u001B[1;32m    458\u001B[0m \u001B[0;34m\u001B[0m\u001B[0m\n",
      "\u001B[0;32m~/PycharmProjects/geometry/geometry/core/Construction.py\u001B[0m in \u001B[0;36mget_valid_actions\u001B[0;34m(self, focus_points, force_calculate)\u001B[0m\n\u001B[1;32m    630\u001B[0m \u001B[0;34m\u001B[0m\u001B[0m\n\u001B[1;32m    631\u001B[0m                 \u001B[0mline\u001B[0m \u001B[0;34m=\u001B[0m \u001B[0mLine\u001B[0m\u001B[0;34m(\u001B[0m\u001B[0mpoint1\u001B[0m\u001B[0;34m,\u001B[0m \u001B[0mpoint2\u001B[0m\u001B[0;34m)\u001B[0m\u001B[0;34m\u001B[0m\u001B[0;34m\u001B[0m\u001B[0m\n\u001B[0;32m--> 632\u001B[0;31m                 \u001B[0mcircle1\u001B[0m \u001B[0;34m=\u001B[0m \u001B[0mCircle\u001B[0m\u001B[0;34m(\u001B[0m\u001B[0mcenter\u001B[0m\u001B[0;34m=\u001B[0m\u001B[0mpoint1\u001B[0m\u001B[0;34m,\u001B[0m \u001B[0mpoint2\u001B[0m\u001B[0;34m=\u001B[0m\u001B[0mpoint2\u001B[0m\u001B[0;34m)\u001B[0m\u001B[0;34m\u001B[0m\u001B[0;34m\u001B[0m\u001B[0m\n\u001B[0m\u001B[1;32m    633\u001B[0m                 \u001B[0mcircle2\u001B[0m \u001B[0;34m=\u001B[0m \u001B[0mCircle\u001B[0m\u001B[0;34m(\u001B[0m\u001B[0mpoint2\u001B[0m\u001B[0;34m,\u001B[0m \u001B[0mpoint2\u001B[0m\u001B[0;34m=\u001B[0m\u001B[0mpoint1\u001B[0m\u001B[0;34m)\u001B[0m\u001B[0;34m\u001B[0m\u001B[0;34m\u001B[0m\u001B[0m\n\u001B[1;32m    634\u001B[0m                 \u001B[0;32mif\u001B[0m \u001B[0mline\u001B[0m \u001B[0;32mnot\u001B[0m \u001B[0;32min\u001B[0m \u001B[0mself\u001B[0m\u001B[0;34m.\u001B[0m\u001B[0mlines\u001B[0m \u001B[0;34m|\u001B[0m \u001B[0mlegal_lines\u001B[0m\u001B[0;34m:\u001B[0m\u001B[0;34m\u001B[0m\u001B[0;34m\u001B[0m\u001B[0m\n",
      "\u001B[0;32m~/PycharmProjects/geometry/geometry/core/Circle.py\u001B[0m in \u001B[0;36m__init__\u001B[0;34m(self, center, radius, point2, name)\u001B[0m\n\u001B[1;32m     18\u001B[0m         \u001B[0;32mif\u001B[0m \u001B[0mpoint2\u001B[0m \u001B[0;32mis\u001B[0m \u001B[0;32mnot\u001B[0m \u001B[0;32mNone\u001B[0m\u001B[0;34m:\u001B[0m\u001B[0;34m\u001B[0m\u001B[0;34m\u001B[0m\u001B[0m\n\u001B[1;32m     19\u001B[0m             \u001B[0mself\u001B[0m\u001B[0;34m.\u001B[0m\u001B[0mpoint2\u001B[0m \u001B[0;34m=\u001B[0m \u001B[0mpoint2\u001B[0m\u001B[0;34m\u001B[0m\u001B[0;34m\u001B[0m\u001B[0m\n\u001B[0;32m---> 20\u001B[0;31m             \u001B[0mself\u001B[0m\u001B[0;34m.\u001B[0m\u001B[0mradius\u001B[0m \u001B[0;34m=\u001B[0m \u001B[0moptimized_simplify\u001B[0m\u001B[0;34m(\u001B[0m\u001B[0mabs\u001B[0m\u001B[0;34m(\u001B[0m\u001B[0mcenter\u001B[0m \u001B[0;34m-\u001B[0m \u001B[0mpoint2\u001B[0m\u001B[0;34m)\u001B[0m\u001B[0;34m)\u001B[0m\u001B[0;34m\u001B[0m\u001B[0;34m\u001B[0m\u001B[0m\n\u001B[0m\u001B[1;32m     21\u001B[0m             \u001B[0mself\u001B[0m\u001B[0;34m.\u001B[0m\u001B[0mname\u001B[0m \u001B[0;34m=\u001B[0m \u001B[0mname\u001B[0m \u001B[0;32mif\u001B[0m \u001B[0mname\u001B[0m \u001B[0;32melse\u001B[0m \u001B[0;34mf'c{center.name}r{center.name}{point2.name}'\u001B[0m\u001B[0;34m\u001B[0m\u001B[0;34m\u001B[0m\u001B[0m\n\u001B[1;32m     22\u001B[0m             \u001B[0mself\u001B[0m\u001B[0;34m.\u001B[0m\u001B[0mdependencies\u001B[0m\u001B[0;34m.\u001B[0m\u001B[0mupdate\u001B[0m\u001B[0;34m(\u001B[0m\u001B[0mpoint2\u001B[0m\u001B[0;34m.\u001B[0m\u001B[0mdependencies\u001B[0m\u001B[0;34m)\u001B[0m\u001B[0;34m\u001B[0m\u001B[0;34m\u001B[0m\u001B[0m\n",
      "\u001B[0;32m~/PycharmProjects/geometry/geometry/core/Point.py\u001B[0m in \u001B[0;36m__abs__\u001B[0;34m(self)\u001B[0m\n\u001B[1;32m     46\u001B[0m \u001B[0;34m\u001B[0m\u001B[0m\n\u001B[1;32m     47\u001B[0m     \u001B[0;32mdef\u001B[0m \u001B[0m__abs__\u001B[0m\u001B[0;34m(\u001B[0m\u001B[0mself\u001B[0m\u001B[0;34m)\u001B[0m\u001B[0;34m:\u001B[0m\u001B[0;34m\u001B[0m\u001B[0;34m\u001B[0m\u001B[0m\n\u001B[0;32m---> 48\u001B[0;31m         \u001B[0;32mreturn\u001B[0m \u001B[0msqrt\u001B[0m\u001B[0;34m(\u001B[0m\u001B[0mself\u001B[0m \u001B[0;34m*\u001B[0m \u001B[0mself\u001B[0m\u001B[0;34m)\u001B[0m\u001B[0;34m.\u001B[0m\u001B[0msimplify\u001B[0m\u001B[0;34m(\u001B[0m\u001B[0;34m)\u001B[0m\u001B[0;34m\u001B[0m\u001B[0;34m\u001B[0m\u001B[0m\n\u001B[0m\u001B[1;32m     49\u001B[0m \u001B[0;34m\u001B[0m\u001B[0m\n\u001B[1;32m     50\u001B[0m     \u001B[0;32mdef\u001B[0m \u001B[0m__repr__\u001B[0m\u001B[0;34m(\u001B[0m\u001B[0mself\u001B[0m\u001B[0;34m)\u001B[0m\u001B[0;34m:\u001B[0m\u001B[0;34m\u001B[0m\u001B[0;34m\u001B[0m\u001B[0m\n",
      "\u001B[0;32msymengine_wrapper.pyx\u001B[0m in \u001B[0;36msymengine.lib.symengine_wrapper.Basic.simplify\u001B[0;34m()\u001B[0m\n",
      "\u001B[0;32m~/PycharmProjects/sympy/sympy/core/basic.py\u001B[0m in \u001B[0;36msimplify\u001B[0;34m(self, **kwargs)\u001B[0m\n\u001B[1;32m   1670\u001B[0m         \u001B[0;34m\"\"\"See the simplify function in sympy.simplify\"\"\"\u001B[0m\u001B[0;34m\u001B[0m\u001B[0;34m\u001B[0m\u001B[0m\n\u001B[1;32m   1671\u001B[0m         \u001B[0;32mfrom\u001B[0m \u001B[0msympy\u001B[0m\u001B[0;34m.\u001B[0m\u001B[0msimplify\u001B[0m \u001B[0;32mimport\u001B[0m \u001B[0msimplify\u001B[0m\u001B[0;34m\u001B[0m\u001B[0;34m\u001B[0m\u001B[0m\n\u001B[0;32m-> 1672\u001B[0;31m         \u001B[0;32mreturn\u001B[0m \u001B[0msimplify\u001B[0m\u001B[0;34m(\u001B[0m\u001B[0mself\u001B[0m\u001B[0;34m,\u001B[0m \u001B[0;34m**\u001B[0m\u001B[0mkwargs\u001B[0m\u001B[0;34m)\u001B[0m\u001B[0;34m\u001B[0m\u001B[0;34m\u001B[0m\u001B[0m\n\u001B[0m\u001B[1;32m   1673\u001B[0m \u001B[0;34m\u001B[0m\u001B[0m\n\u001B[1;32m   1674\u001B[0m     \u001B[0;32mdef\u001B[0m \u001B[0mrefine\u001B[0m\u001B[0;34m(\u001B[0m\u001B[0mself\u001B[0m\u001B[0;34m,\u001B[0m \u001B[0massumption\u001B[0m\u001B[0;34m=\u001B[0m\u001B[0;32mTrue\u001B[0m\u001B[0;34m)\u001B[0m\u001B[0;34m:\u001B[0m\u001B[0;34m\u001B[0m\u001B[0;34m\u001B[0m\u001B[0m\n",
      "\u001B[0;32m~/PycharmProjects/sympy/sympy/simplify/simplify.py\u001B[0m in \u001B[0;36msimplify\u001B[0;34m(expr, ratio, measure, rational, inverse, doit, **kwargs)\u001B[0m\n\u001B[1;32m    586\u001B[0m         doit=kwargs.get('doit', doit))\n\u001B[1;32m    587\u001B[0m     \u001B[0;31m# no routine for Expr needs to check for is_zero\u001B[0m\u001B[0;34m\u001B[0m\u001B[0;34m\u001B[0m\u001B[0;34m\u001B[0m\u001B[0m\n\u001B[0;32m--> 588\u001B[0;31m     \u001B[0;32mif\u001B[0m \u001B[0misinstance\u001B[0m\u001B[0;34m(\u001B[0m\u001B[0mexpr\u001B[0m\u001B[0;34m,\u001B[0m \u001B[0mExpr\u001B[0m\u001B[0;34m)\u001B[0m \u001B[0;32mand\u001B[0m \u001B[0mexpr\u001B[0m\u001B[0;34m.\u001B[0m\u001B[0mis_zero\u001B[0m\u001B[0;34m:\u001B[0m\u001B[0;34m\u001B[0m\u001B[0;34m\u001B[0m\u001B[0m\n\u001B[0m\u001B[1;32m    589\u001B[0m         \u001B[0;32mreturn\u001B[0m \u001B[0mS\u001B[0m\u001B[0;34m.\u001B[0m\u001B[0mZero\u001B[0m\u001B[0;34m\u001B[0m\u001B[0;34m\u001B[0m\u001B[0m\n\u001B[1;32m    590\u001B[0m \u001B[0;34m\u001B[0m\u001B[0m\n",
      "\u001B[0;32m~/PycharmProjects/sympy/sympy/core/assumptions.py\u001B[0m in \u001B[0;36mgetit\u001B[0;34m(self)\u001B[0m\n\u001B[1;32m    456\u001B[0m             \u001B[0;32mif\u001B[0m \u001B[0mself\u001B[0m\u001B[0;34m.\u001B[0m\u001B[0m_assumptions\u001B[0m \u001B[0;32mis\u001B[0m \u001B[0mself\u001B[0m\u001B[0;34m.\u001B[0m\u001B[0mdefault_assumptions\u001B[0m\u001B[0;34m:\u001B[0m\u001B[0;34m\u001B[0m\u001B[0;34m\u001B[0m\u001B[0m\n\u001B[1;32m    457\u001B[0m                 \u001B[0mself\u001B[0m\u001B[0;34m.\u001B[0m\u001B[0m_assumptions\u001B[0m \u001B[0;34m=\u001B[0m \u001B[0mself\u001B[0m\u001B[0;34m.\u001B[0m\u001B[0mdefault_assumptions\u001B[0m\u001B[0;34m.\u001B[0m\u001B[0mcopy\u001B[0m\u001B[0;34m(\u001B[0m\u001B[0;34m)\u001B[0m\u001B[0;34m\u001B[0m\u001B[0;34m\u001B[0m\u001B[0m\n\u001B[0;32m--> 458\u001B[0;31m             \u001B[0;32mreturn\u001B[0m \u001B[0m_ask\u001B[0m\u001B[0;34m(\u001B[0m\u001B[0mfact\u001B[0m\u001B[0;34m,\u001B[0m \u001B[0mself\u001B[0m\u001B[0;34m)\u001B[0m\u001B[0;34m\u001B[0m\u001B[0;34m\u001B[0m\u001B[0m\n\u001B[0m\u001B[1;32m    459\u001B[0m \u001B[0;34m\u001B[0m\u001B[0m\n\u001B[1;32m    460\u001B[0m     \u001B[0mgetit\u001B[0m\u001B[0;34m.\u001B[0m\u001B[0mfunc_name\u001B[0m \u001B[0;34m=\u001B[0m \u001B[0mas_property\u001B[0m\u001B[0;34m(\u001B[0m\u001B[0mfact\u001B[0m\u001B[0;34m)\u001B[0m\u001B[0;34m\u001B[0m\u001B[0;34m\u001B[0m\u001B[0m\n",
      "\u001B[0;32m~/PycharmProjects/sympy/sympy/core/assumptions.py\u001B[0m in \u001B[0;36m_ask\u001B[0;34m(fact, obj)\u001B[0m\n\u001B[1;32m    499\u001B[0m         \u001B[0;32mpass\u001B[0m\u001B[0;34m\u001B[0m\u001B[0;34m\u001B[0m\u001B[0m\n\u001B[1;32m    500\u001B[0m     \u001B[0;32melse\u001B[0m\u001B[0;34m:\u001B[0m\u001B[0;34m\u001B[0m\u001B[0;34m\u001B[0m\u001B[0m\n\u001B[0;32m--> 501\u001B[0;31m         \u001B[0ma\u001B[0m \u001B[0;34m=\u001B[0m \u001B[0mevaluate\u001B[0m\u001B[0;34m(\u001B[0m\u001B[0mobj\u001B[0m\u001B[0;34m)\u001B[0m\u001B[0;34m\u001B[0m\u001B[0;34m\u001B[0m\u001B[0m\n\u001B[0m\u001B[1;32m    502\u001B[0m         \u001B[0;32mif\u001B[0m \u001B[0ma\u001B[0m \u001B[0;32mis\u001B[0m \u001B[0;32mnot\u001B[0m \u001B[0;32mNone\u001B[0m\u001B[0;34m:\u001B[0m\u001B[0;34m\u001B[0m\u001B[0;34m\u001B[0m\u001B[0m\n\u001B[1;32m    503\u001B[0m             \u001B[0massumptions\u001B[0m\u001B[0;34m.\u001B[0m\u001B[0mdeduce_all_facts\u001B[0m\u001B[0;34m(\u001B[0m\u001B[0;34m(\u001B[0m\u001B[0;34m(\u001B[0m\u001B[0mfact\u001B[0m\u001B[0;34m,\u001B[0m \u001B[0ma\u001B[0m\u001B[0;34m)\u001B[0m\u001B[0;34m,\u001B[0m\u001B[0;34m)\u001B[0m\u001B[0;34m)\u001B[0m\u001B[0;34m\u001B[0m\u001B[0;34m\u001B[0m\u001B[0m\n",
      "\u001B[0;32m~/PycharmProjects/sympy/sympy/core/power.py\u001B[0m in \u001B[0;36m_eval_is_zero\u001B[0;34m(self)\u001B[0m\n\u001B[1;32m    579\u001B[0m \u001B[0;34m\u001B[0m\u001B[0m\n\u001B[1;32m    580\u001B[0m     \u001B[0;32mdef\u001B[0m \u001B[0m_eval_is_zero\u001B[0m\u001B[0;34m(\u001B[0m\u001B[0mself\u001B[0m\u001B[0;34m)\u001B[0m\u001B[0;34m:\u001B[0m\u001B[0;34m\u001B[0m\u001B[0;34m\u001B[0m\u001B[0m\n\u001B[0;32m--> 581\u001B[0;31m         \u001B[0;32mif\u001B[0m \u001B[0mself\u001B[0m\u001B[0;34m.\u001B[0m\u001B[0mbase\u001B[0m\u001B[0;34m.\u001B[0m\u001B[0mis_zero\u001B[0m\u001B[0;34m:\u001B[0m\u001B[0;34m\u001B[0m\u001B[0;34m\u001B[0m\u001B[0m\n\u001B[0m\u001B[1;32m    582\u001B[0m             \u001B[0;32mif\u001B[0m \u001B[0mself\u001B[0m\u001B[0;34m.\u001B[0m\u001B[0mexp\u001B[0m\u001B[0;34m.\u001B[0m\u001B[0mis_extended_positive\u001B[0m\u001B[0;34m:\u001B[0m\u001B[0;34m\u001B[0m\u001B[0;34m\u001B[0m\u001B[0m\n\u001B[1;32m    583\u001B[0m                 \u001B[0;32mreturn\u001B[0m \u001B[0;32mTrue\u001B[0m\u001B[0;34m\u001B[0m\u001B[0;34m\u001B[0m\u001B[0m\n",
      "\u001B[0;32m~/PycharmProjects/sympy/sympy/core/assumptions.py\u001B[0m in \u001B[0;36mgetit\u001B[0;34m(self)\u001B[0m\n\u001B[1;32m    456\u001B[0m             \u001B[0;32mif\u001B[0m \u001B[0mself\u001B[0m\u001B[0;34m.\u001B[0m\u001B[0m_assumptions\u001B[0m \u001B[0;32mis\u001B[0m \u001B[0mself\u001B[0m\u001B[0;34m.\u001B[0m\u001B[0mdefault_assumptions\u001B[0m\u001B[0;34m:\u001B[0m\u001B[0;34m\u001B[0m\u001B[0;34m\u001B[0m\u001B[0m\n\u001B[1;32m    457\u001B[0m                 \u001B[0mself\u001B[0m\u001B[0;34m.\u001B[0m\u001B[0m_assumptions\u001B[0m \u001B[0;34m=\u001B[0m \u001B[0mself\u001B[0m\u001B[0;34m.\u001B[0m\u001B[0mdefault_assumptions\u001B[0m\u001B[0;34m.\u001B[0m\u001B[0mcopy\u001B[0m\u001B[0;34m(\u001B[0m\u001B[0;34m)\u001B[0m\u001B[0;34m\u001B[0m\u001B[0;34m\u001B[0m\u001B[0m\n\u001B[0;32m--> 458\u001B[0;31m             \u001B[0;32mreturn\u001B[0m \u001B[0m_ask\u001B[0m\u001B[0;34m(\u001B[0m\u001B[0mfact\u001B[0m\u001B[0;34m,\u001B[0m \u001B[0mself\u001B[0m\u001B[0;34m)\u001B[0m\u001B[0;34m\u001B[0m\u001B[0;34m\u001B[0m\u001B[0m\n\u001B[0m\u001B[1;32m    459\u001B[0m \u001B[0;34m\u001B[0m\u001B[0m\n\u001B[1;32m    460\u001B[0m     \u001B[0mgetit\u001B[0m\u001B[0;34m.\u001B[0m\u001B[0mfunc_name\u001B[0m \u001B[0;34m=\u001B[0m \u001B[0mas_property\u001B[0m\u001B[0;34m(\u001B[0m\u001B[0mfact\u001B[0m\u001B[0;34m)\u001B[0m\u001B[0;34m\u001B[0m\u001B[0;34m\u001B[0m\u001B[0m\n",
      "\u001B[0;32m~/PycharmProjects/sympy/sympy/core/assumptions.py\u001B[0m in \u001B[0;36m_ask\u001B[0;34m(fact, obj)\u001B[0m\n\u001B[1;32m    499\u001B[0m         \u001B[0;32mpass\u001B[0m\u001B[0;34m\u001B[0m\u001B[0;34m\u001B[0m\u001B[0m\n\u001B[1;32m    500\u001B[0m     \u001B[0;32melse\u001B[0m\u001B[0;34m:\u001B[0m\u001B[0;34m\u001B[0m\u001B[0;34m\u001B[0m\u001B[0m\n\u001B[0;32m--> 501\u001B[0;31m         \u001B[0ma\u001B[0m \u001B[0;34m=\u001B[0m \u001B[0mevaluate\u001B[0m\u001B[0;34m(\u001B[0m\u001B[0mobj\u001B[0m\u001B[0;34m)\u001B[0m\u001B[0;34m\u001B[0m\u001B[0;34m\u001B[0m\u001B[0m\n\u001B[0m\u001B[1;32m    502\u001B[0m         \u001B[0;32mif\u001B[0m \u001B[0ma\u001B[0m \u001B[0;32mis\u001B[0m \u001B[0;32mnot\u001B[0m \u001B[0;32mNone\u001B[0m\u001B[0;34m:\u001B[0m\u001B[0;34m\u001B[0m\u001B[0;34m\u001B[0m\u001B[0m\n\u001B[1;32m    503\u001B[0m             \u001B[0massumptions\u001B[0m\u001B[0;34m.\u001B[0m\u001B[0mdeduce_all_facts\u001B[0m\u001B[0;34m(\u001B[0m\u001B[0;34m(\u001B[0m\u001B[0;34m(\u001B[0m\u001B[0mfact\u001B[0m\u001B[0;34m,\u001B[0m \u001B[0ma\u001B[0m\u001B[0;34m)\u001B[0m\u001B[0;34m,\u001B[0m\u001B[0;34m)\u001B[0m\u001B[0;34m)\u001B[0m\u001B[0;34m\u001B[0m\u001B[0;34m\u001B[0m\u001B[0m\n",
      "\u001B[0;32m~/PycharmProjects/sympy/sympy/core/add.py\u001B[0m in \u001B[0;36m_eval_is_zero\u001B[0;34m(self)\u001B[0m\n\u001B[1;32m    686\u001B[0m         \u001B[0mim\u001B[0m \u001B[0;34m=\u001B[0m \u001B[0;36m0\u001B[0m\u001B[0;34m\u001B[0m\u001B[0;34m\u001B[0m\u001B[0m\n\u001B[1;32m    687\u001B[0m         \u001B[0;32mfor\u001B[0m \u001B[0ma\u001B[0m \u001B[0;32min\u001B[0m \u001B[0mself\u001B[0m\u001B[0;34m.\u001B[0m\u001B[0margs\u001B[0m\u001B[0;34m:\u001B[0m\u001B[0;34m\u001B[0m\u001B[0;34m\u001B[0m\u001B[0m\n\u001B[0;32m--> 688\u001B[0;31m             \u001B[0;32mif\u001B[0m \u001B[0ma\u001B[0m\u001B[0;34m.\u001B[0m\u001B[0mis_extended_real\u001B[0m\u001B[0;34m:\u001B[0m\u001B[0;34m\u001B[0m\u001B[0;34m\u001B[0m\u001B[0m\n\u001B[0m\u001B[1;32m    689\u001B[0m                 \u001B[0;32mif\u001B[0m \u001B[0ma\u001B[0m\u001B[0;34m.\u001B[0m\u001B[0mis_zero\u001B[0m\u001B[0;34m:\u001B[0m\u001B[0;34m\u001B[0m\u001B[0;34m\u001B[0m\u001B[0m\n\u001B[1;32m    690\u001B[0m                     \u001B[0mz\u001B[0m \u001B[0;34m+=\u001B[0m \u001B[0;36m1\u001B[0m\u001B[0;34m\u001B[0m\u001B[0;34m\u001B[0m\u001B[0m\n",
      "\u001B[0;32m~/PycharmProjects/sympy/sympy/core/assumptions.py\u001B[0m in \u001B[0;36mgetit\u001B[0;34m(self)\u001B[0m\n\u001B[1;32m    456\u001B[0m             \u001B[0;32mif\u001B[0m \u001B[0mself\u001B[0m\u001B[0;34m.\u001B[0m\u001B[0m_assumptions\u001B[0m \u001B[0;32mis\u001B[0m \u001B[0mself\u001B[0m\u001B[0;34m.\u001B[0m\u001B[0mdefault_assumptions\u001B[0m\u001B[0;34m:\u001B[0m\u001B[0;34m\u001B[0m\u001B[0;34m\u001B[0m\u001B[0m\n\u001B[1;32m    457\u001B[0m                 \u001B[0mself\u001B[0m\u001B[0;34m.\u001B[0m\u001B[0m_assumptions\u001B[0m \u001B[0;34m=\u001B[0m \u001B[0mself\u001B[0m\u001B[0;34m.\u001B[0m\u001B[0mdefault_assumptions\u001B[0m\u001B[0;34m.\u001B[0m\u001B[0mcopy\u001B[0m\u001B[0;34m(\u001B[0m\u001B[0;34m)\u001B[0m\u001B[0;34m\u001B[0m\u001B[0;34m\u001B[0m\u001B[0m\n\u001B[0;32m--> 458\u001B[0;31m             \u001B[0;32mreturn\u001B[0m \u001B[0m_ask\u001B[0m\u001B[0;34m(\u001B[0m\u001B[0mfact\u001B[0m\u001B[0;34m,\u001B[0m \u001B[0mself\u001B[0m\u001B[0;34m)\u001B[0m\u001B[0;34m\u001B[0m\u001B[0;34m\u001B[0m\u001B[0m\n\u001B[0m\u001B[1;32m    459\u001B[0m \u001B[0;34m\u001B[0m\u001B[0m\n\u001B[1;32m    460\u001B[0m     \u001B[0mgetit\u001B[0m\u001B[0;34m.\u001B[0m\u001B[0mfunc_name\u001B[0m \u001B[0;34m=\u001B[0m \u001B[0mas_property\u001B[0m\u001B[0;34m(\u001B[0m\u001B[0mfact\u001B[0m\u001B[0;34m)\u001B[0m\u001B[0;34m\u001B[0m\u001B[0;34m\u001B[0m\u001B[0m\n",
      "\u001B[0;32m~/PycharmProjects/sympy/sympy/core/assumptions.py\u001B[0m in \u001B[0;36m_ask\u001B[0;34m(fact, obj)\u001B[0m\n\u001B[1;32m    499\u001B[0m         \u001B[0;32mpass\u001B[0m\u001B[0;34m\u001B[0m\u001B[0;34m\u001B[0m\u001B[0m\n\u001B[1;32m    500\u001B[0m     \u001B[0;32melse\u001B[0m\u001B[0;34m:\u001B[0m\u001B[0;34m\u001B[0m\u001B[0;34m\u001B[0m\u001B[0m\n\u001B[0;32m--> 501\u001B[0;31m         \u001B[0ma\u001B[0m \u001B[0;34m=\u001B[0m \u001B[0mevaluate\u001B[0m\u001B[0;34m(\u001B[0m\u001B[0mobj\u001B[0m\u001B[0;34m)\u001B[0m\u001B[0;34m\u001B[0m\u001B[0;34m\u001B[0m\u001B[0m\n\u001B[0m\u001B[1;32m    502\u001B[0m         \u001B[0;32mif\u001B[0m \u001B[0ma\u001B[0m \u001B[0;32mis\u001B[0m \u001B[0;32mnot\u001B[0m \u001B[0;32mNone\u001B[0m\u001B[0;34m:\u001B[0m\u001B[0;34m\u001B[0m\u001B[0;34m\u001B[0m\u001B[0m\n\u001B[1;32m    503\u001B[0m             \u001B[0massumptions\u001B[0m\u001B[0;34m.\u001B[0m\u001B[0mdeduce_all_facts\u001B[0m\u001B[0;34m(\u001B[0m\u001B[0;34m(\u001B[0m\u001B[0;34m(\u001B[0m\u001B[0mfact\u001B[0m\u001B[0;34m,\u001B[0m \u001B[0ma\u001B[0m\u001B[0;34m)\u001B[0m\u001B[0;34m,\u001B[0m\u001B[0;34m)\u001B[0m\u001B[0;34m)\u001B[0m\u001B[0;34m\u001B[0m\u001B[0;34m\u001B[0m\u001B[0m\n",
      "\u001B[0;32m~/PycharmProjects/sympy/sympy/core/power.py\u001B[0m in \u001B[0;36m_eval_is_extended_real\u001B[0;34m(self)\u001B[0m\n\u001B[1;32m    644\u001B[0m             \u001B[0;32mreturn\u001B[0m\u001B[0;34m\u001B[0m\u001B[0;34m\u001B[0m\u001B[0m\n\u001B[1;32m    645\u001B[0m         \u001B[0;32mif\u001B[0m \u001B[0mreal_b\u001B[0m \u001B[0;32mand\u001B[0m \u001B[0mreal_e\u001B[0m\u001B[0;34m:\u001B[0m\u001B[0;34m\u001B[0m\u001B[0;34m\u001B[0m\u001B[0m\n\u001B[0;32m--> 646\u001B[0;31m             \u001B[0;32mif\u001B[0m \u001B[0mself\u001B[0m\u001B[0;34m.\u001B[0m\u001B[0mbase\u001B[0m\u001B[0;34m.\u001B[0m\u001B[0mis_extended_positive\u001B[0m\u001B[0;34m:\u001B[0m\u001B[0;34m\u001B[0m\u001B[0;34m\u001B[0m\u001B[0m\n\u001B[0m\u001B[1;32m    647\u001B[0m                 \u001B[0;32mreturn\u001B[0m \u001B[0;32mTrue\u001B[0m\u001B[0;34m\u001B[0m\u001B[0;34m\u001B[0m\u001B[0m\n\u001B[1;32m    648\u001B[0m             \u001B[0;32melif\u001B[0m \u001B[0mself\u001B[0m\u001B[0;34m.\u001B[0m\u001B[0mbase\u001B[0m\u001B[0;34m.\u001B[0m\u001B[0mis_extended_nonnegative\u001B[0m \u001B[0;32mand\u001B[0m \u001B[0mself\u001B[0m\u001B[0;34m.\u001B[0m\u001B[0mexp\u001B[0m\u001B[0;34m.\u001B[0m\u001B[0mis_extended_nonnegative\u001B[0m\u001B[0;34m:\u001B[0m\u001B[0;34m\u001B[0m\u001B[0;34m\u001B[0m\u001B[0m\n",
      "\u001B[0;32m~/PycharmProjects/sympy/sympy/core/assumptions.py\u001B[0m in \u001B[0;36mgetit\u001B[0;34m(self)\u001B[0m\n\u001B[1;32m    456\u001B[0m             \u001B[0;32mif\u001B[0m \u001B[0mself\u001B[0m\u001B[0;34m.\u001B[0m\u001B[0m_assumptions\u001B[0m \u001B[0;32mis\u001B[0m \u001B[0mself\u001B[0m\u001B[0;34m.\u001B[0m\u001B[0mdefault_assumptions\u001B[0m\u001B[0;34m:\u001B[0m\u001B[0;34m\u001B[0m\u001B[0;34m\u001B[0m\u001B[0m\n\u001B[1;32m    457\u001B[0m                 \u001B[0mself\u001B[0m\u001B[0;34m.\u001B[0m\u001B[0m_assumptions\u001B[0m \u001B[0;34m=\u001B[0m \u001B[0mself\u001B[0m\u001B[0;34m.\u001B[0m\u001B[0mdefault_assumptions\u001B[0m\u001B[0;34m.\u001B[0m\u001B[0mcopy\u001B[0m\u001B[0;34m(\u001B[0m\u001B[0;34m)\u001B[0m\u001B[0;34m\u001B[0m\u001B[0;34m\u001B[0m\u001B[0m\n\u001B[0;32m--> 458\u001B[0;31m             \u001B[0;32mreturn\u001B[0m \u001B[0m_ask\u001B[0m\u001B[0;34m(\u001B[0m\u001B[0mfact\u001B[0m\u001B[0;34m,\u001B[0m \u001B[0mself\u001B[0m\u001B[0;34m)\u001B[0m\u001B[0;34m\u001B[0m\u001B[0;34m\u001B[0m\u001B[0m\n\u001B[0m\u001B[1;32m    459\u001B[0m \u001B[0;34m\u001B[0m\u001B[0m\n\u001B[1;32m    460\u001B[0m     \u001B[0mgetit\u001B[0m\u001B[0;34m.\u001B[0m\u001B[0mfunc_name\u001B[0m \u001B[0;34m=\u001B[0m \u001B[0mas_property\u001B[0m\u001B[0;34m(\u001B[0m\u001B[0mfact\u001B[0m\u001B[0;34m)\u001B[0m\u001B[0;34m\u001B[0m\u001B[0;34m\u001B[0m\u001B[0m\n",
      "\u001B[0;32m~/PycharmProjects/sympy/sympy/core/assumptions.py\u001B[0m in \u001B[0;36m_ask\u001B[0;34m(fact, obj)\u001B[0m\n\u001B[1;32m    501\u001B[0m         \u001B[0ma\u001B[0m \u001B[0;34m=\u001B[0m \u001B[0mevaluate\u001B[0m\u001B[0;34m(\u001B[0m\u001B[0mobj\u001B[0m\u001B[0;34m)\u001B[0m\u001B[0;34m\u001B[0m\u001B[0;34m\u001B[0m\u001B[0m\n\u001B[1;32m    502\u001B[0m         \u001B[0;32mif\u001B[0m \u001B[0ma\u001B[0m \u001B[0;32mis\u001B[0m \u001B[0;32mnot\u001B[0m \u001B[0;32mNone\u001B[0m\u001B[0;34m:\u001B[0m\u001B[0;34m\u001B[0m\u001B[0;34m\u001B[0m\u001B[0m\n\u001B[0;32m--> 503\u001B[0;31m             \u001B[0massumptions\u001B[0m\u001B[0;34m.\u001B[0m\u001B[0mdeduce_all_facts\u001B[0m\u001B[0;34m(\u001B[0m\u001B[0;34m(\u001B[0m\u001B[0;34m(\u001B[0m\u001B[0mfact\u001B[0m\u001B[0;34m,\u001B[0m \u001B[0ma\u001B[0m\u001B[0;34m)\u001B[0m\u001B[0;34m,\u001B[0m\u001B[0;34m)\u001B[0m\u001B[0;34m)\u001B[0m\u001B[0;34m\u001B[0m\u001B[0;34m\u001B[0m\u001B[0m\n\u001B[0m\u001B[1;32m    504\u001B[0m             \u001B[0;32mreturn\u001B[0m \u001B[0ma\u001B[0m\u001B[0;34m\u001B[0m\u001B[0;34m\u001B[0m\u001B[0m\n\u001B[1;32m    505\u001B[0m \u001B[0;34m\u001B[0m\u001B[0m\n",
      "\u001B[0;32m~/PycharmProjects/sympy/sympy/core/facts.py\u001B[0m in \u001B[0;36mdeduce_all_facts\u001B[0;34m(self, facts)\u001B[0m\n\u001B[1;32m    518\u001B[0m             \u001B[0;31m# --- alpha chains ---\u001B[0m\u001B[0;34m\u001B[0m\u001B[0;34m\u001B[0m\u001B[0;34m\u001B[0m\u001B[0m\n\u001B[1;32m    519\u001B[0m             \u001B[0;32mfor\u001B[0m \u001B[0mk\u001B[0m\u001B[0;34m,\u001B[0m \u001B[0mv\u001B[0m \u001B[0;32min\u001B[0m \u001B[0mfacts\u001B[0m\u001B[0;34m:\u001B[0m\u001B[0;34m\u001B[0m\u001B[0;34m\u001B[0m\u001B[0m\n\u001B[0;32m--> 520\u001B[0;31m                 \u001B[0;32mif\u001B[0m \u001B[0;32mnot\u001B[0m \u001B[0mself\u001B[0m\u001B[0;34m.\u001B[0m\u001B[0m_tell\u001B[0m\u001B[0;34m(\u001B[0m\u001B[0mk\u001B[0m\u001B[0;34m,\u001B[0m \u001B[0mv\u001B[0m\u001B[0;34m)\u001B[0m \u001B[0;32mor\u001B[0m \u001B[0mv\u001B[0m \u001B[0;32mis\u001B[0m \u001B[0;32mNone\u001B[0m\u001B[0;34m:\u001B[0m\u001B[0;34m\u001B[0m\u001B[0;34m\u001B[0m\u001B[0m\n\u001B[0m\u001B[1;32m    521\u001B[0m                     \u001B[0;32mcontinue\u001B[0m\u001B[0;34m\u001B[0m\u001B[0;34m\u001B[0m\u001B[0m\n\u001B[1;32m    522\u001B[0m \u001B[0;34m\u001B[0m\u001B[0m\n",
      "\u001B[0;32m~/PycharmProjects/sympy/sympy/core/facts.py\u001B[0m in \u001B[0;36m_tell\u001B[0;34m(self, k, v)\u001B[0m\n\u001B[1;32m    489\u001B[0m                 \u001B[0;32mreturn\u001B[0m \u001B[0;32mFalse\u001B[0m\u001B[0;34m\u001B[0m\u001B[0;34m\u001B[0m\u001B[0m\n\u001B[1;32m    490\u001B[0m             \u001B[0;32melse\u001B[0m\u001B[0;34m:\u001B[0m\u001B[0;34m\u001B[0m\u001B[0;34m\u001B[0m\u001B[0m\n\u001B[0;32m--> 491\u001B[0;31m                 \u001B[0;32mraise\u001B[0m \u001B[0mInconsistentAssumptions\u001B[0m\u001B[0;34m(\u001B[0m\u001B[0mself\u001B[0m\u001B[0;34m,\u001B[0m \u001B[0mk\u001B[0m\u001B[0;34m,\u001B[0m \u001B[0mv\u001B[0m\u001B[0;34m)\u001B[0m\u001B[0;34m\u001B[0m\u001B[0;34m\u001B[0m\u001B[0m\n\u001B[0m\u001B[1;32m    492\u001B[0m         \u001B[0;32melse\u001B[0m\u001B[0;34m:\u001B[0m\u001B[0;34m\u001B[0m\u001B[0;34m\u001B[0m\u001B[0m\n\u001B[1;32m    493\u001B[0m             \u001B[0mself\u001B[0m\u001B[0;34m[\u001B[0m\u001B[0mk\u001B[0m\u001B[0;34m]\u001B[0m \u001B[0;34m=\u001B[0m \u001B[0mv\u001B[0m\u001B[0;34m\u001B[0m\u001B[0;34m\u001B[0m\u001B[0m\n",
      "\u001B[0;31mInconsistentAssumptions\u001B[0m: {\n\talgebraic: True,\n\tcommutative: True,\n\tcomplex: True,\n\tcomposite: False,\n\teven: True,\n\textended_negative: False,\n\textended_nonnegative: True,\n\textended_nonpositive: True,\n\textended_nonzero: False,\n\textended_positive: False,\n\textended_real: True,\n\tfinite: True,\n\thermitian: True,\n\timaginary: False,\n\tinfinite: False,\n\tinteger: True,\n\tirrational: False,\n\tnegative: False,\n\tnoninteger: False,\n\tnonnegative: True,\n\tnonpositive: True,\n\tnonzero: False,\n\todd: False,\n\tpositive: False,\n\tprime: False,\n\trational: True,\n\treal: True,\n\ttranscendental: False,\n\tzero: True}, extended_positive=True"
     ]
    }
   ],
   "source": [
    "find_all_constructions_of_length(max_depth=4)"
   ],
   "metadata": {
    "collapsed": false,
    "pycharm": {
     "name": "#%%\n"
    }
   }
  },
  {
   "cell_type": "code",
   "execution_count": null,
   "outputs": [],
   "source": [
    "%%timeit\n",
    "find_all_constructions_of_length(max_depth=4, report=False)"
   ],
   "metadata": {
    "collapsed": false,
    "pycharm": {
     "name": "#%%\n"
    }
   }
  },
  {
   "cell_type": "code",
   "execution_count": null,
   "outputs": [],
   "source": [],
   "metadata": {
    "collapsed": false,
    "pycharm": {
     "name": "#%%\n"
    }
   }
  }
 ],
 "metadata": {
  "kernelspec": {
   "display_name": "Python 3",
   "language": "python",
   "name": "python3"
  },
  "language_info": {
   "codemirror_mode": {
    "name": "ipython",
    "version": 2
   },
   "file_extension": ".py",
   "mimetype": "text/x-python",
   "name": "python",
   "nbconvert_exporter": "python",
   "pygments_lexer": "ipython2",
   "version": "2.7.6"
  }
 },
 "nbformat": 4,
 "nbformat_minor": 0
}