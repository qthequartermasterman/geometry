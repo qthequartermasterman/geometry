{
 "cells": [
  {
   "cell_type": "code",
   "execution_count": 2,
   "metadata": {
    "collapsed": true
   },
   "outputs": [],
   "source": [
    "from MinimalConstructionsCore import *"
   ]
  },
  {
   "cell_type": "code",
   "execution_count": 3,
   "outputs": [
    {
     "name": "stdout",
     "output_type": "stream",
     "text": [
      "\u001B[32mMinimal Construction of Points at Thu, 03 Jun 2021 18:14:18 +0000\n",
      "\tDiscovered 0 constructed points\u001B[0m\n",
      "\u001B[32mMinimal Construction Length for each point:\n",
      "\t\u001B[32m 2 Point d: (2, 0)\n",
      "\t\u001B[32m 2 Point e: (0, 0)\n",
      "\t\u001B[32m 2 Point e: (1/2, (-1/2)*sqrt(3))\n",
      "\t\u001B[32m 2 Point f: (1/2, (1/2)*sqrt(3))\n",
      "\t\u001B[32m 2 Point d: (1, 0)\n",
      "\t\u001B[32m 2 Point e: (-1, 0)\n",
      "\t\u001B[32m 3 Point e: (4, 0)\n",
      "\t\u001B[32m 3 Point f: (-2, 0)\n",
      "\t\u001B[32m 3 Point g: (3/2, (-1/2)*sqrt(3))\n",
      "\t\u001B[32m 3 Point h: (3/2, (1/2)*sqrt(3))\n",
      "\t\u001B[32m 3 Point h: (3, 0)\n",
      "\t\u001B[32m 3 Point f: (-1/2, (1/2)*sqrt(3))\n",
      "\t\u001B[32m 3 Point h: (-1/2, (-1/2)*sqrt(3))\n",
      "\t\u001B[32m 3 Point f: (-3, 0)\n",
      "\u001B[33mNumber of Unique Constructions of each given length\n",
      "\tSteps: 0 Num Unique Constructions:  1\n",
      "\tSteps: 1 Num Unique Constructions:  3\n",
      "\tSteps: 2 Num Unique Constructions:  3\n",
      "\tSteps: 3 Num Unique Constructions:  16\n",
      "\tSteps: 4 Num Unique Constructions:  205\n",
      "\u001B[34mTotal Unique Constructions\n",
      "\tGenerated 228 different constructions\n",
      "\u001B[0m\n"
     ]
    }
   ],
   "source": [
    "find_all_constructions_of_length(max_depth=3)"
   ],
   "metadata": {
    "collapsed": false,
    "pycharm": {
     "name": "#%%\n"
    }
   }
  },
  {
   "cell_type": "code",
   "execution_count": 4,
   "outputs": [
    {
     "name": "stdout",
     "output_type": "stream",
     "text": [
      "875 ms ± 89 ms per loop (mean ± std. dev. of 7 runs, 1 loop each)\n"
     ]
    }
   ],
   "source": [
    "%%timeit\n",
    "find_all_constructions_of_length(max_depth=3, report=False)\n"
   ],
   "metadata": {
    "collapsed": false,
    "pycharm": {
     "name": "#%%\n"
    }
   }
  },
  {
   "cell_type": "code",
   "execution_count": 3,
   "outputs": [
    {
     "ename": "RuntimeError",
     "evalue": "Not Implemented",
     "output_type": "error",
     "traceback": [
      "\u001B[0;31m---------------------------------------------------------------------------\u001B[0m",
      "\u001B[0;31mRuntimeError\u001B[0m                              Traceback (most recent call last)",
      "\u001B[0;32m<ipython-input-3-84fdc1391495>\u001B[0m in \u001B[0;36m<module>\u001B[0;34m\u001B[0m\n\u001B[0;32m----> 1\u001B[0;31m \u001B[0mfind_all_constructions_of_length\u001B[0m\u001B[0;34m(\u001B[0m\u001B[0mmax_depth\u001B[0m\u001B[0;34m=\u001B[0m\u001B[0;36m4\u001B[0m\u001B[0;34m)\u001B[0m\u001B[0;34m\u001B[0m\u001B[0;34m\u001B[0m\u001B[0m\n\u001B[0m\u001B[1;32m      2\u001B[0m \u001B[0;34m\u001B[0m\u001B[0m\n",
      "\u001B[0;32m~/PycharmProjects/geometry/geometry/experiments/MinimalConstructions/MinimalConstructionsCore.py\u001B[0m in \u001B[0;36mfind_all_constructions_of_length\u001B[0;34m(max_depth, verbose, report)\u001B[0m\n\u001B[1;32m    266\u001B[0m     \u001B[0;31m# values are dummy, since multiprocessing managers only work with dicts\u001B[0m\u001B[0;34m\u001B[0m\u001B[0;34m\u001B[0m\u001B[0;34m\u001B[0m\u001B[0m\n\u001B[1;32m    267\u001B[0m     \u001B[0mgenerated_constructions_dict\u001B[0m\u001B[0;34m:\u001B[0m \u001B[0;34m{\u001B[0m\u001B[0mConstruction\u001B[0m\u001B[0;34m:\u001B[0m \u001B[0mint\u001B[0m\u001B[0;34m}\u001B[0m \u001B[0;34m=\u001B[0m \u001B[0;34m{\u001B[0m\u001B[0;34m}\u001B[0m\u001B[0;34m\u001B[0m\u001B[0;34m\u001B[0m\u001B[0m\n\u001B[0;32m--> 268\u001B[0;31m     \u001B[0mrun_bfs_in_series\u001B[0m\u001B[0;34m(\u001B[0m\u001B[0mconstruction_queue\u001B[0m\u001B[0;34m,\u001B[0m \u001B[0mgenerated_constructions_dict\u001B[0m\u001B[0;34m,\u001B[0m \u001B[0mpoint_minimal_construction_length_dict\u001B[0m\u001B[0;34m,\u001B[0m \u001B[0mmax_depth\u001B[0m\u001B[0;34m,\u001B[0m \u001B[0mverbose\u001B[0m\u001B[0;34m,\u001B[0m \u001B[0mreport\u001B[0m\u001B[0;34m)\u001B[0m\u001B[0;34m\u001B[0m\u001B[0;34m\u001B[0m\u001B[0m\n\u001B[0m\u001B[1;32m    269\u001B[0m \u001B[0;34m\u001B[0m\u001B[0m\n\u001B[1;32m    270\u001B[0m \u001B[0;34m\u001B[0m\u001B[0m\n",
      "\u001B[0;32m~/PycharmProjects/geometry/geometry/experiments/MinimalConstructions/MinimalConstructionsCore.py\u001B[0m in \u001B[0;36mrun_bfs_in_series\u001B[0;34m(queue, previously_generated_constructions_dict, point_minimal_construction_dict, max_search_depth, verbose, report)\u001B[0m\n\u001B[1;32m    241\u001B[0m     \u001B[0mpreviously_generated_constructions_dict\u001B[0m\u001B[0;34m[\u001B[0m\u001B[0mbase_construction\u001B[0m\u001B[0;34m]\u001B[0m \u001B[0;34m=\u001B[0m \u001B[0;36m0\u001B[0m  \u001B[0;31m# Put the base construction in our visited_dict\u001B[0m\u001B[0;34m\u001B[0m\u001B[0;34m\u001B[0m\u001B[0m\n\u001B[1;32m    242\u001B[0m     \u001B[0mqueue\u001B[0m\u001B[0;34m.\u001B[0m\u001B[0mput\u001B[0m\u001B[0;34m(\u001B[0m\u001B[0;34m(\u001B[0m\u001B[0mbase_construction\u001B[0m\u001B[0;34m,\u001B[0m \u001B[0mtuple\u001B[0m\u001B[0;34m(\u001B[0m\u001B[0mbase_construction\u001B[0m\u001B[0;34m.\u001B[0m\u001B[0mpoints\u001B[0m\u001B[0;34m)\u001B[0m\u001B[0;34m[\u001B[0m\u001B[0;36m0\u001B[0m\u001B[0;34m]\u001B[0m\u001B[0;34m)\u001B[0m\u001B[0;34m)\u001B[0m\u001B[0;34m\u001B[0m\u001B[0;34m\u001B[0m\u001B[0m\n\u001B[0;32m--> 243\u001B[0;31m     generate_constructions_breadth_first_search(queue, previously_generated_constructions_dict,\n\u001B[0m\u001B[1;32m    244\u001B[0m                                                 \u001B[0mpoint_minimal_construction_dict\u001B[0m\u001B[0;34m,\u001B[0m\u001B[0;34m\u001B[0m\u001B[0;34m\u001B[0m\u001B[0m\n\u001B[1;32m    245\u001B[0m                                                 max_search_depth, verbose=verbose)\n",
      "\u001B[0;32m~/PycharmProjects/geometry/geometry/experiments/MinimalConstructions/MinimalConstructionsCore.py\u001B[0m in \u001B[0;36mgenerate_constructions_breadth_first_search\u001B[0;34m(queue, generated_constructions_dict, point_minimal_construction_length_dict, max_search_depth, interesting, verbose)\u001B[0m\n\u001B[1;32m    207\u001B[0m         \u001B[0;32mfor\u001B[0m \u001B[0maction\u001B[0m \u001B[0;32min\u001B[0m \u001B[0mqueue_construction\u001B[0m\u001B[0;34m.\u001B[0m\u001B[0mactions\u001B[0m\u001B[0;34m:\u001B[0m\u001B[0;34m\u001B[0m\u001B[0;34m\u001B[0m\u001B[0m\n\u001B[1;32m    208\u001B[0m             \u001B[0mnew_construction\u001B[0m \u001B[0;34m=\u001B[0m \u001B[0mcopy\u001B[0m\u001B[0;34m.\u001B[0m\u001B[0mdeepcopy\u001B[0m\u001B[0;34m(\u001B[0m\u001B[0mqueue_construction\u001B[0m\u001B[0;34m)\u001B[0m\u001B[0;34m\u001B[0m\u001B[0;34m\u001B[0m\u001B[0m\n\u001B[0;32m--> 209\u001B[0;31m             \u001B[0mnew_object\u001B[0m \u001B[0;34m=\u001B[0m \u001B[0mnew_construction\u001B[0m\u001B[0;34m.\u001B[0m\u001B[0madd_step_premade\u001B[0m\u001B[0;34m(\u001B[0m\u001B[0maction\u001B[0m\u001B[0;34m,\u001B[0m \u001B[0minteresting\u001B[0m\u001B[0;34m=\u001B[0m\u001B[0minteresting\u001B[0m\u001B[0;34m)\u001B[0m\u001B[0;34m\u001B[0m\u001B[0;34m\u001B[0m\u001B[0m\n\u001B[0m\u001B[1;32m    210\u001B[0m             \u001B[0;32mif\u001B[0m \u001B[0mverbose\u001B[0m\u001B[0;34m:\u001B[0m\u001B[0;34m\u001B[0m\u001B[0;34m\u001B[0m\u001B[0m\n\u001B[1;32m    211\u001B[0m                 print('\\033[36m', 'Generating new construction: '\n",
      "\u001B[0;32m~/PycharmProjects/geometry/geometry/core/Construction.py\u001B[0m in \u001B[0;36madd_step_premade\u001B[0;34m(self, step, counts_as_step, interesting)\u001B[0m\n\u001B[1;32m    450\u001B[0m             \u001B[0mself\u001B[0m\u001B[0;34m.\u001B[0m\u001B[0msteps_set\u001B[0m\u001B[0;34m.\u001B[0m\u001B[0madd\u001B[0m\u001B[0;34m(\u001B[0m\u001B[0mstep\u001B[0m\u001B[0;34m)\u001B[0m\u001B[0;34m\u001B[0m\u001B[0;34m\u001B[0m\u001B[0m\n\u001B[1;32m    451\u001B[0m         \u001B[0;31m# Get new points and actions\u001B[0m\u001B[0;34m\u001B[0m\u001B[0;34m\u001B[0m\u001B[0;34m\u001B[0m\u001B[0m\n\u001B[0;32m--> 452\u001B[0;31m         \u001B[0mnew_points\u001B[0m \u001B[0;34m=\u001B[0m \u001B[0mself\u001B[0m\u001B[0;34m.\u001B[0m\u001B[0mupdate_intersections_with_object\u001B[0m\u001B[0;34m(\u001B[0m\u001B[0mstep\u001B[0m\u001B[0;34m)\u001B[0m\u001B[0;34m\u001B[0m\u001B[0;34m\u001B[0m\u001B[0m\n\u001B[0m\u001B[1;32m    453\u001B[0m         \u001B[0mself\u001B[0m\u001B[0;34m.\u001B[0m\u001B[0mactions\u001B[0m\u001B[0;34m.\u001B[0m\u001B[0mdiscard\u001B[0m\u001B[0;34m(\u001B[0m\u001B[0mstep\u001B[0m\u001B[0;34m)\u001B[0m\u001B[0;34m\u001B[0m\u001B[0;34m\u001B[0m\u001B[0m\n\u001B[1;32m    454\u001B[0m         \u001B[0mself\u001B[0m\u001B[0;34m.\u001B[0m\u001B[0mactions\u001B[0m \u001B[0;34m=\u001B[0m \u001B[0mself\u001B[0m\u001B[0;34m.\u001B[0m\u001B[0mget_valid_actions\u001B[0m\u001B[0;34m(\u001B[0m\u001B[0mnew_points\u001B[0m\u001B[0;34m)\u001B[0m\u001B[0;34m\u001B[0m\u001B[0;34m\u001B[0m\u001B[0m\n",
      "\u001B[0;32m~/PycharmProjects/geometry/geometry/core/Construction.py\u001B[0m in \u001B[0;36mupdate_intersections_with_object\u001B[0;34m(self, obj)\u001B[0m\n\u001B[1;32m    339\u001B[0m         \u001B[0;31m# check every circle except our given object\u001B[0m\u001B[0;34m\u001B[0m\u001B[0;34m\u001B[0m\u001B[0;34m\u001B[0m\u001B[0m\n\u001B[1;32m    340\u001B[0m         \u001B[0;32mfor\u001B[0m \u001B[0mcircle\u001B[0m \u001B[0;32min\u001B[0m \u001B[0mself\u001B[0m\u001B[0;34m.\u001B[0m\u001B[0mcircles\u001B[0m \u001B[0;34m-\u001B[0m \u001B[0;34m{\u001B[0m\u001B[0mobj\u001B[0m\u001B[0;34m}\u001B[0m\u001B[0;34m:\u001B[0m\u001B[0;34m\u001B[0m\u001B[0;34m\u001B[0m\u001B[0m\n\u001B[0;32m--> 341\u001B[0;31m             \u001B[0mintersections\u001B[0m\u001B[0;34m.\u001B[0m\u001B[0mupdate\u001B[0m\u001B[0;34m(\u001B[0m\u001B[0mself\u001B[0m\u001B[0;34m.\u001B[0m\u001B[0mfind_intersections\u001B[0m\u001B[0;34m(\u001B[0m\u001B[0mobj\u001B[0m\u001B[0;34m,\u001B[0m \u001B[0mcircle\u001B[0m\u001B[0;34m)\u001B[0m\u001B[0;34m)\u001B[0m\u001B[0;34m\u001B[0m\u001B[0;34m\u001B[0m\u001B[0m\n\u001B[0m\u001B[1;32m    342\u001B[0m \u001B[0;34m\u001B[0m\u001B[0m\n\u001B[1;32m    343\u001B[0m         \u001B[0;31m# Update the set of points to include the newly-found intersection points\u001B[0m\u001B[0;34m\u001B[0m\u001B[0;34m\u001B[0m\u001B[0;34m\u001B[0m\u001B[0m\n",
      "\u001B[0;32m~/PycharmProjects/geometry/geometry/core/Construction.py\u001B[0m in \u001B[0;36mfind_intersections\u001B[0;34m(self, object1, object2, interesting)\u001B[0m\n\u001B[1;32m     90\u001B[0m                 \u001B[0mintersections\u001B[0m \u001B[0;34m=\u001B[0m \u001B[0mself\u001B[0m\u001B[0;34m.\u001B[0m\u001B[0mfind_intersections_line_circle\u001B[0m\u001B[0;34m(\u001B[0m\u001B[0mobject2\u001B[0m\u001B[0;34m,\u001B[0m \u001B[0mobject1\u001B[0m\u001B[0;34m)\u001B[0m\u001B[0;34m\u001B[0m\u001B[0;34m\u001B[0m\u001B[0m\n\u001B[1;32m     91\u001B[0m             \u001B[0;32melif\u001B[0m \u001B[0misinstance\u001B[0m\u001B[0;34m(\u001B[0m\u001B[0mobject2\u001B[0m\u001B[0;34m,\u001B[0m \u001B[0mCircle\u001B[0m\u001B[0;34m)\u001B[0m\u001B[0;34m:\u001B[0m\u001B[0;34m\u001B[0m\u001B[0;34m\u001B[0m\u001B[0m\n\u001B[0;32m---> 92\u001B[0;31m                 \u001B[0mintersections\u001B[0m \u001B[0;34m=\u001B[0m \u001B[0mself\u001B[0m\u001B[0;34m.\u001B[0m\u001B[0mfind_intersections_circle_circle\u001B[0m\u001B[0;34m(\u001B[0m\u001B[0mobject1\u001B[0m\u001B[0;34m,\u001B[0m \u001B[0mobject2\u001B[0m\u001B[0;34m)\u001B[0m\u001B[0;34m\u001B[0m\u001B[0;34m\u001B[0m\u001B[0m\n\u001B[0m\u001B[1;32m     93\u001B[0m         \u001B[0;32mif\u001B[0m \u001B[0mintersections\u001B[0m \u001B[0;32mis\u001B[0m \u001B[0;32mnot\u001B[0m \u001B[0;32mNone\u001B[0m\u001B[0;34m:\u001B[0m\u001B[0;34m\u001B[0m\u001B[0;34m\u001B[0m\u001B[0m\n\u001B[1;32m     94\u001B[0m             \u001B[0mprevious_number_of_points\u001B[0m \u001B[0;34m=\u001B[0m \u001B[0mlen\u001B[0m\u001B[0;34m(\u001B[0m\u001B[0mself\u001B[0m\u001B[0;34m.\u001B[0m\u001B[0mpoints\u001B[0m\u001B[0;34m)\u001B[0m\u001B[0;34m\u001B[0m\u001B[0;34m\u001B[0m\u001B[0m\n",
      "\u001B[0;32m~/PycharmProjects/geometry/geometry/core/Construction.py\u001B[0m in \u001B[0;36mfind_intersections_circle_circle\u001B[0;34m(circle1, circle2)\u001B[0m\n\u001B[1;32m    206\u001B[0m             \u001B[0mdis_evalf\u001B[0m \u001B[0;34m=\u001B[0m \u001B[0mdistance_between_centers\u001B[0m\u001B[0;34m.\u001B[0m\u001B[0mevalf\u001B[0m\u001B[0;34m(\u001B[0m\u001B[0;34m)\u001B[0m\u001B[0;34m\u001B[0m\u001B[0;34m\u001B[0m\u001B[0m\n\u001B[1;32m    207\u001B[0m \u001B[0;34m\u001B[0m\u001B[0m\n\u001B[0;32m--> 208\u001B[0;31m             \u001B[0mdistance_between_centers_float\u001B[0m \u001B[0;34m=\u001B[0m \u001B[0mfloat\u001B[0m\u001B[0;34m(\u001B[0m\u001B[0mdis_evalf\u001B[0m\u001B[0;34m)\u001B[0m\u001B[0;34m\u001B[0m\u001B[0;34m\u001B[0m\u001B[0m\n\u001B[0m\u001B[1;32m    209\u001B[0m         \u001B[0;32melse\u001B[0m\u001B[0;34m:\u001B[0m\u001B[0;34m\u001B[0m\u001B[0;34m\u001B[0m\u001B[0m\n\u001B[1;32m    210\u001B[0m             \u001B[0mprint\u001B[0m\u001B[0;34m(\u001B[0m\u001B[0;34mf'{distance_between_centers} has no evalf property.'\u001B[0m\u001B[0;34m)\u001B[0m\u001B[0;34m\u001B[0m\u001B[0;34m\u001B[0m\u001B[0m\n",
      "\u001B[0;32msymengine_wrapper.pyx\u001B[0m in \u001B[0;36msymengine.lib.symengine_wrapper.Basic.__float__\u001B[0;34m()\u001B[0m\n",
      "\u001B[0;32msymengine_wrapper.pyx\u001B[0m in \u001B[0;36msymengine.lib.symengine_wrapper.Basic.n\u001B[0;34m()\u001B[0m\n",
      "\u001B[0;32msymengine_wrapper.pyx\u001B[0m in \u001B[0;36msymengine.lib.symengine_wrapper.evalf\u001B[0;34m()\u001B[0m\n",
      "\u001B[0;31mRuntimeError\u001B[0m: Not Implemented"
     ]
    }
   ],
   "source": [
    "find_all_constructions_of_length(max_depth=4)"
   ],
   "metadata": {
    "collapsed": false,
    "pycharm": {
     "name": "#%%\n"
    }
   }
  },
  {
   "cell_type": "code",
   "execution_count": null,
   "outputs": [],
   "source": [
    "%%timeit\n",
    "find_all_constructions_of_length(max_depth=4, report=False)"
   ],
   "metadata": {
    "collapsed": false,
    "pycharm": {
     "name": "#%%\n"
    }
   }
  },
  {
   "cell_type": "code",
   "execution_count": null,
   "outputs": [],
   "source": [],
   "metadata": {
    "collapsed": false,
    "pycharm": {
     "name": "#%%\n"
    }
   }
  }
 ],
 "metadata": {
  "kernelspec": {
   "display_name": "Python 3",
   "language": "python",
   "name": "python3"
  },
  "language_info": {
   "codemirror_mode": {
    "name": "ipython",
    "version": 2
   },
   "file_extension": ".py",
   "mimetype": "text/x-python",
   "name": "python",
   "nbconvert_exporter": "python",
   "pygments_lexer": "ipython2",
   "version": "2.7.6"
  }
 },
 "nbformat": 4,
 "nbformat_minor": 0
}